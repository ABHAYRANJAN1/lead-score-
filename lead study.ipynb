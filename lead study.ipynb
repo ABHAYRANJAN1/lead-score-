{
 "cells": [
  {
   "cell_type": "code",
   "execution_count": 164,
   "id": "9be871dc",
   "metadata": {},
   "outputs": [],
   "source": [
    "# basic libraries to work on the dataframe\n",
    "import pandas as pd\n",
    "import numpy as np\n",
    "# data Visualization libraries\n",
    "import matplotlib.pyplot as plt\n",
    "import seaborn as sns\n",
    "\n",
    "# libraries\n",
    "from sklearn.cluster import KMeans\n",
    "from sklearn.model_selection import train_test_split\n",
    "from sklearn.preprocessing import StandardScaler\n",
    "import statsmodels.api as sm\n",
    "from sklearn.linear_model import LogisticRegression\n",
    "from sklearn.feature_selection import RFE\n",
    "from statsmodels.stats.outliers_influence import variance_inflation_factor\n",
    "\n",
    "# Suppressing Warnings\n",
    "import warnings\n",
    "warnings.filterwarnings('ignore')\n",
    "\n",
    "#Increasing the columns views limit\n",
    "pd.options.display.max_columns = None\n",
    "pd.options.display.max_rows = 150\n",
    "pd.options.display.float_format = '{:.2f}'.format"
   ]
  },
  {
   "cell_type": "code",
   "execution_count": 165,
   "id": "34d3ec86",
   "metadata": {},
   "outputs": [],
   "source": [
    "df = pd.read_csv(\"Leads.csv\")"
   ]
  },
  {
   "cell_type": "code",
   "execution_count": 166,
   "id": "133d38cf",
   "metadata": {
    "scrolled": true
   },
   "outputs": [
    {
     "name": "stdout",
     "output_type": "stream",
     "text": [
      "<class 'pandas.core.frame.DataFrame'>\n",
      "RangeIndex: 9240 entries, 0 to 9239\n",
      "Data columns (total 37 columns):\n",
      " #   Column                                         Non-Null Count  Dtype  \n",
      "---  ------                                         --------------  -----  \n",
      " 0   Prospect ID                                    9240 non-null   object \n",
      " 1   Lead Number                                    9240 non-null   int64  \n",
      " 2   Lead Origin                                    9240 non-null   object \n",
      " 3   Lead Source                                    9204 non-null   object \n",
      " 4   Do Not Email                                   9240 non-null   object \n",
      " 5   Do Not Call                                    9240 non-null   object \n",
      " 6   Converted                                      9240 non-null   int64  \n",
      " 7   TotalVisits                                    9103 non-null   float64\n",
      " 8   Total Time Spent on Website                    9240 non-null   int64  \n",
      " 9   Page Views Per Visit                           9103 non-null   float64\n",
      " 10  Last Activity                                  9137 non-null   object \n",
      " 11  Country                                        6779 non-null   object \n",
      " 12  Specialization                                 7802 non-null   object \n",
      " 13  How did you hear about X Education             7033 non-null   object \n",
      " 14  What is your current occupation                6550 non-null   object \n",
      " 15  What matters most to you in choosing a course  6531 non-null   object \n",
      " 16  Search                                         9240 non-null   object \n",
      " 17  Magazine                                       9240 non-null   object \n",
      " 18  Newspaper Article                              9240 non-null   object \n",
      " 19  X Education Forums                             9240 non-null   object \n",
      " 20  Newspaper                                      9240 non-null   object \n",
      " 21  Digital Advertisement                          9240 non-null   object \n",
      " 22  Through Recommendations                        9240 non-null   object \n",
      " 23  Receive More Updates About Our Courses         9240 non-null   object \n",
      " 24  Tags                                           5887 non-null   object \n",
      " 25  Lead Quality                                   4473 non-null   object \n",
      " 26  Update me on Supply Chain Content              9240 non-null   object \n",
      " 27  Get updates on DM Content                      9240 non-null   object \n",
      " 28  Lead Profile                                   6531 non-null   object \n",
      " 29  City                                           7820 non-null   object \n",
      " 30  Asymmetrique Activity Index                    5022 non-null   object \n",
      " 31  Asymmetrique Profile Index                     5022 non-null   object \n",
      " 32  Asymmetrique Activity Score                    5022 non-null   float64\n",
      " 33  Asymmetrique Profile Score                     5022 non-null   float64\n",
      " 34  I agree to pay the amount through cheque       9240 non-null   object \n",
      " 35  A free copy of Mastering The Interview         9240 non-null   object \n",
      " 36  Last Notable Activity                          9240 non-null   object \n",
      "dtypes: float64(4), int64(3), object(30)\n",
      "memory usage: 2.6+ MB\n"
     ]
    }
   ],
   "source": [
    "df.info()"
   ]
  },
  {
   "cell_type": "code",
   "execution_count": 167,
   "id": "91e34b36",
   "metadata": {
    "scrolled": true
   },
   "outputs": [
    {
     "data": {
      "text/html": [
       "<div>\n",
       "<style scoped>\n",
       "    .dataframe tbody tr th:only-of-type {\n",
       "        vertical-align: middle;\n",
       "    }\n",
       "\n",
       "    .dataframe tbody tr th {\n",
       "        vertical-align: top;\n",
       "    }\n",
       "\n",
       "    .dataframe thead th {\n",
       "        text-align: right;\n",
       "    }\n",
       "</style>\n",
       "<table border=\"1\" class=\"dataframe\">\n",
       "  <thead>\n",
       "    <tr style=\"text-align: right;\">\n",
       "      <th></th>\n",
       "      <th>Prospect ID</th>\n",
       "      <th>Lead Number</th>\n",
       "      <th>Lead Origin</th>\n",
       "      <th>Lead Source</th>\n",
       "      <th>Do Not Email</th>\n",
       "      <th>Do Not Call</th>\n",
       "      <th>Converted</th>\n",
       "      <th>TotalVisits</th>\n",
       "      <th>Total Time Spent on Website</th>\n",
       "      <th>Page Views Per Visit</th>\n",
       "      <th>Last Activity</th>\n",
       "      <th>Country</th>\n",
       "      <th>Specialization</th>\n",
       "      <th>How did you hear about X Education</th>\n",
       "      <th>What is your current occupation</th>\n",
       "      <th>What matters most to you in choosing a course</th>\n",
       "      <th>Search</th>\n",
       "      <th>Magazine</th>\n",
       "      <th>Newspaper Article</th>\n",
       "      <th>X Education Forums</th>\n",
       "      <th>Newspaper</th>\n",
       "      <th>Digital Advertisement</th>\n",
       "      <th>Through Recommendations</th>\n",
       "      <th>Receive More Updates About Our Courses</th>\n",
       "      <th>Tags</th>\n",
       "      <th>Lead Quality</th>\n",
       "      <th>Update me on Supply Chain Content</th>\n",
       "      <th>Get updates on DM Content</th>\n",
       "      <th>Lead Profile</th>\n",
       "      <th>City</th>\n",
       "      <th>Asymmetrique Activity Index</th>\n",
       "      <th>Asymmetrique Profile Index</th>\n",
       "      <th>Asymmetrique Activity Score</th>\n",
       "      <th>Asymmetrique Profile Score</th>\n",
       "      <th>I agree to pay the amount through cheque</th>\n",
       "      <th>A free copy of Mastering The Interview</th>\n",
       "      <th>Last Notable Activity</th>\n",
       "    </tr>\n",
       "  </thead>\n",
       "  <tbody>\n",
       "    <tr>\n",
       "      <th>0</th>\n",
       "      <td>7927b2df-8bba-4d29-b9a2-b6e0beafe620</td>\n",
       "      <td>660737</td>\n",
       "      <td>API</td>\n",
       "      <td>Olark Chat</td>\n",
       "      <td>No</td>\n",
       "      <td>No</td>\n",
       "      <td>0</td>\n",
       "      <td>0.00</td>\n",
       "      <td>0</td>\n",
       "      <td>0.00</td>\n",
       "      <td>Page Visited on Website</td>\n",
       "      <td>NaN</td>\n",
       "      <td>Select</td>\n",
       "      <td>Select</td>\n",
       "      <td>Unemployed</td>\n",
       "      <td>Better Career Prospects</td>\n",
       "      <td>No</td>\n",
       "      <td>No</td>\n",
       "      <td>No</td>\n",
       "      <td>No</td>\n",
       "      <td>No</td>\n",
       "      <td>No</td>\n",
       "      <td>No</td>\n",
       "      <td>No</td>\n",
       "      <td>Interested in other courses</td>\n",
       "      <td>Low in Relevance</td>\n",
       "      <td>No</td>\n",
       "      <td>No</td>\n",
       "      <td>Select</td>\n",
       "      <td>Select</td>\n",
       "      <td>02.Medium</td>\n",
       "      <td>02.Medium</td>\n",
       "      <td>15.00</td>\n",
       "      <td>15.00</td>\n",
       "      <td>No</td>\n",
       "      <td>No</td>\n",
       "      <td>Modified</td>\n",
       "    </tr>\n",
       "    <tr>\n",
       "      <th>1</th>\n",
       "      <td>2a272436-5132-4136-86fa-dcc88c88f482</td>\n",
       "      <td>660728</td>\n",
       "      <td>API</td>\n",
       "      <td>Organic Search</td>\n",
       "      <td>No</td>\n",
       "      <td>No</td>\n",
       "      <td>0</td>\n",
       "      <td>5.00</td>\n",
       "      <td>674</td>\n",
       "      <td>2.50</td>\n",
       "      <td>Email Opened</td>\n",
       "      <td>India</td>\n",
       "      <td>Select</td>\n",
       "      <td>Select</td>\n",
       "      <td>Unemployed</td>\n",
       "      <td>Better Career Prospects</td>\n",
       "      <td>No</td>\n",
       "      <td>No</td>\n",
       "      <td>No</td>\n",
       "      <td>No</td>\n",
       "      <td>No</td>\n",
       "      <td>No</td>\n",
       "      <td>No</td>\n",
       "      <td>No</td>\n",
       "      <td>Ringing</td>\n",
       "      <td>NaN</td>\n",
       "      <td>No</td>\n",
       "      <td>No</td>\n",
       "      <td>Select</td>\n",
       "      <td>Select</td>\n",
       "      <td>02.Medium</td>\n",
       "      <td>02.Medium</td>\n",
       "      <td>15.00</td>\n",
       "      <td>15.00</td>\n",
       "      <td>No</td>\n",
       "      <td>No</td>\n",
       "      <td>Email Opened</td>\n",
       "    </tr>\n",
       "    <tr>\n",
       "      <th>2</th>\n",
       "      <td>8cc8c611-a219-4f35-ad23-fdfd2656bd8a</td>\n",
       "      <td>660727</td>\n",
       "      <td>Landing Page Submission</td>\n",
       "      <td>Direct Traffic</td>\n",
       "      <td>No</td>\n",
       "      <td>No</td>\n",
       "      <td>1</td>\n",
       "      <td>2.00</td>\n",
       "      <td>1532</td>\n",
       "      <td>2.00</td>\n",
       "      <td>Email Opened</td>\n",
       "      <td>India</td>\n",
       "      <td>Business Administration</td>\n",
       "      <td>Select</td>\n",
       "      <td>Student</td>\n",
       "      <td>Better Career Prospects</td>\n",
       "      <td>No</td>\n",
       "      <td>No</td>\n",
       "      <td>No</td>\n",
       "      <td>No</td>\n",
       "      <td>No</td>\n",
       "      <td>No</td>\n",
       "      <td>No</td>\n",
       "      <td>No</td>\n",
       "      <td>Will revert after reading the email</td>\n",
       "      <td>Might be</td>\n",
       "      <td>No</td>\n",
       "      <td>No</td>\n",
       "      <td>Potential Lead</td>\n",
       "      <td>Mumbai</td>\n",
       "      <td>02.Medium</td>\n",
       "      <td>01.High</td>\n",
       "      <td>14.00</td>\n",
       "      <td>20.00</td>\n",
       "      <td>No</td>\n",
       "      <td>Yes</td>\n",
       "      <td>Email Opened</td>\n",
       "    </tr>\n",
       "    <tr>\n",
       "      <th>3</th>\n",
       "      <td>0cc2df48-7cf4-4e39-9de9-19797f9b38cc</td>\n",
       "      <td>660719</td>\n",
       "      <td>Landing Page Submission</td>\n",
       "      <td>Direct Traffic</td>\n",
       "      <td>No</td>\n",
       "      <td>No</td>\n",
       "      <td>0</td>\n",
       "      <td>1.00</td>\n",
       "      <td>305</td>\n",
       "      <td>1.00</td>\n",
       "      <td>Unreachable</td>\n",
       "      <td>India</td>\n",
       "      <td>Media and Advertising</td>\n",
       "      <td>Word Of Mouth</td>\n",
       "      <td>Unemployed</td>\n",
       "      <td>Better Career Prospects</td>\n",
       "      <td>No</td>\n",
       "      <td>No</td>\n",
       "      <td>No</td>\n",
       "      <td>No</td>\n",
       "      <td>No</td>\n",
       "      <td>No</td>\n",
       "      <td>No</td>\n",
       "      <td>No</td>\n",
       "      <td>Ringing</td>\n",
       "      <td>Not Sure</td>\n",
       "      <td>No</td>\n",
       "      <td>No</td>\n",
       "      <td>Select</td>\n",
       "      <td>Mumbai</td>\n",
       "      <td>02.Medium</td>\n",
       "      <td>01.High</td>\n",
       "      <td>13.00</td>\n",
       "      <td>17.00</td>\n",
       "      <td>No</td>\n",
       "      <td>No</td>\n",
       "      <td>Modified</td>\n",
       "    </tr>\n",
       "    <tr>\n",
       "      <th>4</th>\n",
       "      <td>3256f628-e534-4826-9d63-4a8b88782852</td>\n",
       "      <td>660681</td>\n",
       "      <td>Landing Page Submission</td>\n",
       "      <td>Google</td>\n",
       "      <td>No</td>\n",
       "      <td>No</td>\n",
       "      <td>1</td>\n",
       "      <td>2.00</td>\n",
       "      <td>1428</td>\n",
       "      <td>1.00</td>\n",
       "      <td>Converted to Lead</td>\n",
       "      <td>India</td>\n",
       "      <td>Select</td>\n",
       "      <td>Other</td>\n",
       "      <td>Unemployed</td>\n",
       "      <td>Better Career Prospects</td>\n",
       "      <td>No</td>\n",
       "      <td>No</td>\n",
       "      <td>No</td>\n",
       "      <td>No</td>\n",
       "      <td>No</td>\n",
       "      <td>No</td>\n",
       "      <td>No</td>\n",
       "      <td>No</td>\n",
       "      <td>Will revert after reading the email</td>\n",
       "      <td>Might be</td>\n",
       "      <td>No</td>\n",
       "      <td>No</td>\n",
       "      <td>Select</td>\n",
       "      <td>Mumbai</td>\n",
       "      <td>02.Medium</td>\n",
       "      <td>01.High</td>\n",
       "      <td>15.00</td>\n",
       "      <td>18.00</td>\n",
       "      <td>No</td>\n",
       "      <td>No</td>\n",
       "      <td>Modified</td>\n",
       "    </tr>\n",
       "  </tbody>\n",
       "</table>\n",
       "</div>"
      ],
      "text/plain": [
       "                            Prospect ID  Lead Number              Lead Origin  \\\n",
       "0  7927b2df-8bba-4d29-b9a2-b6e0beafe620       660737                      API   \n",
       "1  2a272436-5132-4136-86fa-dcc88c88f482       660728                      API   \n",
       "2  8cc8c611-a219-4f35-ad23-fdfd2656bd8a       660727  Landing Page Submission   \n",
       "3  0cc2df48-7cf4-4e39-9de9-19797f9b38cc       660719  Landing Page Submission   \n",
       "4  3256f628-e534-4826-9d63-4a8b88782852       660681  Landing Page Submission   \n",
       "\n",
       "      Lead Source Do Not Email Do Not Call  Converted  TotalVisits  \\\n",
       "0      Olark Chat           No          No          0         0.00   \n",
       "1  Organic Search           No          No          0         5.00   \n",
       "2  Direct Traffic           No          No          1         2.00   \n",
       "3  Direct Traffic           No          No          0         1.00   \n",
       "4          Google           No          No          1         2.00   \n",
       "\n",
       "   Total Time Spent on Website  Page Views Per Visit            Last Activity  \\\n",
       "0                            0                  0.00  Page Visited on Website   \n",
       "1                          674                  2.50             Email Opened   \n",
       "2                         1532                  2.00             Email Opened   \n",
       "3                          305                  1.00              Unreachable   \n",
       "4                         1428                  1.00        Converted to Lead   \n",
       "\n",
       "  Country           Specialization How did you hear about X Education  \\\n",
       "0     NaN                   Select                             Select   \n",
       "1   India                   Select                             Select   \n",
       "2   India  Business Administration                             Select   \n",
       "3   India    Media and Advertising                      Word Of Mouth   \n",
       "4   India                   Select                              Other   \n",
       "\n",
       "  What is your current occupation  \\\n",
       "0                      Unemployed   \n",
       "1                      Unemployed   \n",
       "2                         Student   \n",
       "3                      Unemployed   \n",
       "4                      Unemployed   \n",
       "\n",
       "  What matters most to you in choosing a course Search Magazine  \\\n",
       "0                       Better Career Prospects     No       No   \n",
       "1                       Better Career Prospects     No       No   \n",
       "2                       Better Career Prospects     No       No   \n",
       "3                       Better Career Prospects     No       No   \n",
       "4                       Better Career Prospects     No       No   \n",
       "\n",
       "  Newspaper Article X Education Forums Newspaper Digital Advertisement  \\\n",
       "0                No                 No        No                    No   \n",
       "1                No                 No        No                    No   \n",
       "2                No                 No        No                    No   \n",
       "3                No                 No        No                    No   \n",
       "4                No                 No        No                    No   \n",
       "\n",
       "  Through Recommendations Receive More Updates About Our Courses  \\\n",
       "0                      No                                     No   \n",
       "1                      No                                     No   \n",
       "2                      No                                     No   \n",
       "3                      No                                     No   \n",
       "4                      No                                     No   \n",
       "\n",
       "                                  Tags      Lead Quality  \\\n",
       "0          Interested in other courses  Low in Relevance   \n",
       "1                              Ringing               NaN   \n",
       "2  Will revert after reading the email          Might be   \n",
       "3                              Ringing          Not Sure   \n",
       "4  Will revert after reading the email          Might be   \n",
       "\n",
       "  Update me on Supply Chain Content Get updates on DM Content    Lead Profile  \\\n",
       "0                                No                        No          Select   \n",
       "1                                No                        No          Select   \n",
       "2                                No                        No  Potential Lead   \n",
       "3                                No                        No          Select   \n",
       "4                                No                        No          Select   \n",
       "\n",
       "     City Asymmetrique Activity Index Asymmetrique Profile Index  \\\n",
       "0  Select                   02.Medium                  02.Medium   \n",
       "1  Select                   02.Medium                  02.Medium   \n",
       "2  Mumbai                   02.Medium                    01.High   \n",
       "3  Mumbai                   02.Medium                    01.High   \n",
       "4  Mumbai                   02.Medium                    01.High   \n",
       "\n",
       "   Asymmetrique Activity Score  Asymmetrique Profile Score  \\\n",
       "0                        15.00                       15.00   \n",
       "1                        15.00                       15.00   \n",
       "2                        14.00                       20.00   \n",
       "3                        13.00                       17.00   \n",
       "4                        15.00                       18.00   \n",
       "\n",
       "  I agree to pay the amount through cheque  \\\n",
       "0                                       No   \n",
       "1                                       No   \n",
       "2                                       No   \n",
       "3                                       No   \n",
       "4                                       No   \n",
       "\n",
       "  A free copy of Mastering The Interview Last Notable Activity  \n",
       "0                                     No              Modified  \n",
       "1                                     No          Email Opened  \n",
       "2                                    Yes          Email Opened  \n",
       "3                                     No              Modified  \n",
       "4                                     No              Modified  "
      ]
     },
     "execution_count": 167,
     "metadata": {},
     "output_type": "execute_result"
    }
   ],
   "source": [
    "df.head()"
   ]
  },
  {
   "cell_type": "code",
   "execution_count": 168,
   "id": "3abb5746",
   "metadata": {
    "scrolled": true
   },
   "outputs": [
    {
     "data": {
      "text/plain": [
       "Prospect ID                                         0\n",
       "Lead Number                                         0\n",
       "Lead Origin                                         0\n",
       "Lead Source                                        36\n",
       "Do Not Email                                        0\n",
       "Do Not Call                                         0\n",
       "Converted                                           0\n",
       "TotalVisits                                       137\n",
       "Total Time Spent on Website                         0\n",
       "Page Views Per Visit                              137\n",
       "Last Activity                                     103\n",
       "Country                                          2461\n",
       "Specialization                                   1438\n",
       "How did you hear about X Education               2207\n",
       "What is your current occupation                  2690\n",
       "What matters most to you in choosing a course    2709\n",
       "Search                                              0\n",
       "Magazine                                            0\n",
       "Newspaper Article                                   0\n",
       "X Education Forums                                  0\n",
       "Newspaper                                           0\n",
       "Digital Advertisement                               0\n",
       "Through Recommendations                             0\n",
       "Receive More Updates About Our Courses              0\n",
       "Tags                                             3353\n",
       "Lead Quality                                     4767\n",
       "Update me on Supply Chain Content                   0\n",
       "Get updates on DM Content                           0\n",
       "Lead Profile                                     2709\n",
       "City                                             1420\n",
       "Asymmetrique Activity Index                      4218\n",
       "Asymmetrique Profile Index                       4218\n",
       "Asymmetrique Activity Score                      4218\n",
       "Asymmetrique Profile Score                       4218\n",
       "I agree to pay the amount through cheque            0\n",
       "A free copy of Mastering The Interview              0\n",
       "Last Notable Activity                               0\n",
       "dtype: int64"
      ]
     },
     "execution_count": 168,
     "metadata": {},
     "output_type": "execute_result"
    }
   ],
   "source": [
    "# Identify the count of null columns\n",
    "df.isnull().sum()"
   ]
  },
  {
   "cell_type": "code",
   "execution_count": 169,
   "id": "dc6e2702",
   "metadata": {},
   "outputs": [
    {
     "data": {
      "text/plain": [
       "(9240, 37)"
      ]
     },
     "execution_count": 169,
     "metadata": {},
     "output_type": "execute_result"
    }
   ],
   "source": [
    "df.shape"
   ]
  },
  {
   "cell_type": "code",
   "execution_count": 170,
   "id": "df0801d6",
   "metadata": {},
   "outputs": [
    {
     "data": {
      "text/html": [
       "<div>\n",
       "<style scoped>\n",
       "    .dataframe tbody tr th:only-of-type {\n",
       "        vertical-align: middle;\n",
       "    }\n",
       "\n",
       "    .dataframe tbody tr th {\n",
       "        vertical-align: top;\n",
       "    }\n",
       "\n",
       "    .dataframe thead th {\n",
       "        text-align: right;\n",
       "    }\n",
       "</style>\n",
       "<table border=\"1\" class=\"dataframe\">\n",
       "  <thead>\n",
       "    <tr style=\"text-align: right;\">\n",
       "      <th></th>\n",
       "      <th>Lead Number</th>\n",
       "      <th>Converted</th>\n",
       "      <th>TotalVisits</th>\n",
       "      <th>Total Time Spent on Website</th>\n",
       "      <th>Page Views Per Visit</th>\n",
       "      <th>Asymmetrique Activity Score</th>\n",
       "      <th>Asymmetrique Profile Score</th>\n",
       "    </tr>\n",
       "  </thead>\n",
       "  <tbody>\n",
       "    <tr>\n",
       "      <th>count</th>\n",
       "      <td>9240.00</td>\n",
       "      <td>9240.00</td>\n",
       "      <td>9103.00</td>\n",
       "      <td>9240.00</td>\n",
       "      <td>9103.00</td>\n",
       "      <td>5022.00</td>\n",
       "      <td>5022.00</td>\n",
       "    </tr>\n",
       "    <tr>\n",
       "      <th>mean</th>\n",
       "      <td>617188.44</td>\n",
       "      <td>0.39</td>\n",
       "      <td>3.45</td>\n",
       "      <td>487.70</td>\n",
       "      <td>2.36</td>\n",
       "      <td>14.31</td>\n",
       "      <td>16.34</td>\n",
       "    </tr>\n",
       "    <tr>\n",
       "      <th>std</th>\n",
       "      <td>23406.00</td>\n",
       "      <td>0.49</td>\n",
       "      <td>4.85</td>\n",
       "      <td>548.02</td>\n",
       "      <td>2.16</td>\n",
       "      <td>1.39</td>\n",
       "      <td>1.81</td>\n",
       "    </tr>\n",
       "    <tr>\n",
       "      <th>min</th>\n",
       "      <td>579533.00</td>\n",
       "      <td>0.00</td>\n",
       "      <td>0.00</td>\n",
       "      <td>0.00</td>\n",
       "      <td>0.00</td>\n",
       "      <td>7.00</td>\n",
       "      <td>11.00</td>\n",
       "    </tr>\n",
       "    <tr>\n",
       "      <th>25%</th>\n",
       "      <td>596484.50</td>\n",
       "      <td>0.00</td>\n",
       "      <td>1.00</td>\n",
       "      <td>12.00</td>\n",
       "      <td>1.00</td>\n",
       "      <td>14.00</td>\n",
       "      <td>15.00</td>\n",
       "    </tr>\n",
       "    <tr>\n",
       "      <th>50%</th>\n",
       "      <td>615479.00</td>\n",
       "      <td>0.00</td>\n",
       "      <td>3.00</td>\n",
       "      <td>248.00</td>\n",
       "      <td>2.00</td>\n",
       "      <td>14.00</td>\n",
       "      <td>16.00</td>\n",
       "    </tr>\n",
       "    <tr>\n",
       "      <th>75%</th>\n",
       "      <td>637387.25</td>\n",
       "      <td>1.00</td>\n",
       "      <td>5.00</td>\n",
       "      <td>936.00</td>\n",
       "      <td>3.00</td>\n",
       "      <td>15.00</td>\n",
       "      <td>18.00</td>\n",
       "    </tr>\n",
       "    <tr>\n",
       "      <th>max</th>\n",
       "      <td>660737.00</td>\n",
       "      <td>1.00</td>\n",
       "      <td>251.00</td>\n",
       "      <td>2272.00</td>\n",
       "      <td>55.00</td>\n",
       "      <td>18.00</td>\n",
       "      <td>20.00</td>\n",
       "    </tr>\n",
       "  </tbody>\n",
       "</table>\n",
       "</div>"
      ],
      "text/plain": [
       "       Lead Number  Converted  TotalVisits  Total Time Spent on Website  \\\n",
       "count      9240.00    9240.00      9103.00                      9240.00   \n",
       "mean     617188.44       0.39         3.45                       487.70   \n",
       "std       23406.00       0.49         4.85                       548.02   \n",
       "min      579533.00       0.00         0.00                         0.00   \n",
       "25%      596484.50       0.00         1.00                        12.00   \n",
       "50%      615479.00       0.00         3.00                       248.00   \n",
       "75%      637387.25       1.00         5.00                       936.00   \n",
       "max      660737.00       1.00       251.00                      2272.00   \n",
       "\n",
       "       Page Views Per Visit  Asymmetrique Activity Score  \\\n",
       "count               9103.00                      5022.00   \n",
       "mean                   2.36                        14.31   \n",
       "std                    2.16                         1.39   \n",
       "min                    0.00                         7.00   \n",
       "25%                    1.00                        14.00   \n",
       "50%                    2.00                        14.00   \n",
       "75%                    3.00                        15.00   \n",
       "max                   55.00                        18.00   \n",
       "\n",
       "       Asymmetrique Profile Score  \n",
       "count                     5022.00  \n",
       "mean                        16.34  \n",
       "std                          1.81  \n",
       "min                         11.00  \n",
       "25%                         15.00  \n",
       "50%                         16.00  \n",
       "75%                         18.00  \n",
       "max                         20.00  "
      ]
     },
     "execution_count": 170,
     "metadata": {},
     "output_type": "execute_result"
    }
   ],
   "source": [
    "df.describe()"
   ]
  },
  {
   "cell_type": "markdown",
   "id": "ee5b74c3",
   "metadata": {},
   "source": [
    "* By viewing the columns in excel we can see some columns have \"select\" as an entry which appears to be a null entry. First we will replace select by nan.\n",
    "\n",
    "#### FInd columns that have select as a value and then replace \"Select\" with null values"
   ]
  },
  {
   "cell_type": "code",
   "execution_count": 171,
   "id": "8a531c74",
   "metadata": {},
   "outputs": [
    {
     "name": "stdout",
     "output_type": "stream",
     "text": [
      "['Specialization', 'How did you hear about X Education', 'Lead Profile', 'City']\n"
     ]
    }
   ],
   "source": [
    "# Select all columns that have data type as object\n",
    "df_sel = df.select_dtypes(include='object')\n",
    "\n",
    "# Find out columns that have \"Select\" as an entry\n",
    "l = df_sel.columns[df_sel.apply(lambda x: x.str.contains('Select', na=False)).any()].tolist()\n",
    "print (l)"
   ]
  },
  {
   "cell_type": "code",
   "execution_count": 172,
   "id": "11cade66",
   "metadata": {},
   "outputs": [],
   "source": [
    "# select the columns from above that have a \"Select\" entry\n",
    "df_sel_cols = ['Specialization', 'How did you hear about X Education', 'Lead Profile', 'City']\n",
    "\n",
    "# replace values\n",
    "df[df_sel_cols] = df[df_sel_cols].replace('Select', np.NaN)"
   ]
  },
  {
   "cell_type": "code",
   "execution_count": 173,
   "id": "8bd54699",
   "metadata": {
    "scrolled": true
   },
   "outputs": [
    {
     "data": {
      "text/plain": [
       "Prospect ID                                      0.00\n",
       "Lead Number                                      0.00\n",
       "Lead Origin                                      0.00\n",
       "Lead Source                                      0.39\n",
       "Do Not Email                                     0.00\n",
       "Do Not Call                                      0.00\n",
       "Converted                                        0.00\n",
       "TotalVisits                                      1.48\n",
       "Total Time Spent on Website                      0.00\n",
       "Page Views Per Visit                             1.48\n",
       "Last Activity                                    1.11\n",
       "Country                                         26.63\n",
       "Specialization                                  36.58\n",
       "How did you hear about X Education              78.46\n",
       "What is your current occupation                 29.11\n",
       "What matters most to you in choosing a course   29.32\n",
       "Search                                           0.00\n",
       "Magazine                                         0.00\n",
       "Newspaper Article                                0.00\n",
       "X Education Forums                               0.00\n",
       "Newspaper                                        0.00\n",
       "Digital Advertisement                            0.00\n",
       "Through Recommendations                          0.00\n",
       "Receive More Updates About Our Courses           0.00\n",
       "Tags                                            36.29\n",
       "Lead Quality                                    51.59\n",
       "Update me on Supply Chain Content                0.00\n",
       "Get updates on DM Content                        0.00\n",
       "Lead Profile                                    74.19\n",
       "City                                            39.71\n",
       "Asymmetrique Activity Index                     45.65\n",
       "Asymmetrique Profile Index                      45.65\n",
       "Asymmetrique Activity Score                     45.65\n",
       "Asymmetrique Profile Score                      45.65\n",
       "I agree to pay the amount through cheque         0.00\n",
       "A free copy of Mastering The Interview           0.00\n",
       "Last Notable Activity                            0.00\n",
       "dtype: float64"
      ]
     },
     "execution_count": 173,
     "metadata": {},
     "output_type": "execute_result"
    }
   ],
   "source": [
    "# Calculate percentage of null values for each column\n",
    "(df.isnull().sum() / df.shape[0]) * 100"
   ]
  },
  {
   "cell_type": "markdown",
   "id": "79993d6f",
   "metadata": {},
   "source": [
    "#### Inferences :\n",
    "#### From the data analysis we can see that for below mentioned null values the percentage is same. Also from data we can see that lead who have not filled values in one column have left all the other 3 columns blank.\n",
    "1. Asymmetrique Activity Index                     45.65\n",
    "2. Asymmetrique Profile Index                      45.65\n",
    "3. Asymmetrique Activity Score                     45.65\n",
    "4. Asymmetrique Profile Score                      45.65\n",
    "\n",
    "#### Since we have a lot of columns that have very large number of null values.It is better to drop these columns.  \n",
    "#### Drop columns with more then 40% null values"
   ]
  },
  {
   "cell_type": "code",
   "execution_count": 174,
   "id": "ca9ecb62",
   "metadata": {
    "scrolled": true
   },
   "outputs": [
    {
     "data": {
      "text/html": [
       "<div>\n",
       "<style scoped>\n",
       "    .dataframe tbody tr th:only-of-type {\n",
       "        vertical-align: middle;\n",
       "    }\n",
       "\n",
       "    .dataframe tbody tr th {\n",
       "        vertical-align: top;\n",
       "    }\n",
       "\n",
       "    .dataframe thead th {\n",
       "        text-align: right;\n",
       "    }\n",
       "</style>\n",
       "<table border=\"1\" class=\"dataframe\">\n",
       "  <thead>\n",
       "    <tr style=\"text-align: right;\">\n",
       "      <th></th>\n",
       "      <th>Prospect ID</th>\n",
       "      <th>Lead Number</th>\n",
       "      <th>Lead Origin</th>\n",
       "      <th>Lead Source</th>\n",
       "      <th>Do Not Email</th>\n",
       "      <th>Do Not Call</th>\n",
       "      <th>Converted</th>\n",
       "      <th>TotalVisits</th>\n",
       "      <th>Total Time Spent on Website</th>\n",
       "      <th>Page Views Per Visit</th>\n",
       "      <th>Last Activity</th>\n",
       "      <th>Country</th>\n",
       "      <th>Specialization</th>\n",
       "      <th>What is your current occupation</th>\n",
       "      <th>What matters most to you in choosing a course</th>\n",
       "      <th>Search</th>\n",
       "      <th>Magazine</th>\n",
       "      <th>Newspaper Article</th>\n",
       "      <th>X Education Forums</th>\n",
       "      <th>Newspaper</th>\n",
       "      <th>Digital Advertisement</th>\n",
       "      <th>Through Recommendations</th>\n",
       "      <th>Receive More Updates About Our Courses</th>\n",
       "      <th>Tags</th>\n",
       "      <th>Update me on Supply Chain Content</th>\n",
       "      <th>Get updates on DM Content</th>\n",
       "      <th>City</th>\n",
       "      <th>I agree to pay the amount through cheque</th>\n",
       "      <th>A free copy of Mastering The Interview</th>\n",
       "      <th>Last Notable Activity</th>\n",
       "    </tr>\n",
       "  </thead>\n",
       "  <tbody>\n",
       "    <tr>\n",
       "      <th>0</th>\n",
       "      <td>7927b2df-8bba-4d29-b9a2-b6e0beafe620</td>\n",
       "      <td>660737</td>\n",
       "      <td>API</td>\n",
       "      <td>Olark Chat</td>\n",
       "      <td>No</td>\n",
       "      <td>No</td>\n",
       "      <td>0</td>\n",
       "      <td>0.00</td>\n",
       "      <td>0</td>\n",
       "      <td>0.00</td>\n",
       "      <td>Page Visited on Website</td>\n",
       "      <td>NaN</td>\n",
       "      <td>NaN</td>\n",
       "      <td>Unemployed</td>\n",
       "      <td>Better Career Prospects</td>\n",
       "      <td>No</td>\n",
       "      <td>No</td>\n",
       "      <td>No</td>\n",
       "      <td>No</td>\n",
       "      <td>No</td>\n",
       "      <td>No</td>\n",
       "      <td>No</td>\n",
       "      <td>No</td>\n",
       "      <td>Interested in other courses</td>\n",
       "      <td>No</td>\n",
       "      <td>No</td>\n",
       "      <td>NaN</td>\n",
       "      <td>No</td>\n",
       "      <td>No</td>\n",
       "      <td>Modified</td>\n",
       "    </tr>\n",
       "    <tr>\n",
       "      <th>1</th>\n",
       "      <td>2a272436-5132-4136-86fa-dcc88c88f482</td>\n",
       "      <td>660728</td>\n",
       "      <td>API</td>\n",
       "      <td>Organic Search</td>\n",
       "      <td>No</td>\n",
       "      <td>No</td>\n",
       "      <td>0</td>\n",
       "      <td>5.00</td>\n",
       "      <td>674</td>\n",
       "      <td>2.50</td>\n",
       "      <td>Email Opened</td>\n",
       "      <td>India</td>\n",
       "      <td>NaN</td>\n",
       "      <td>Unemployed</td>\n",
       "      <td>Better Career Prospects</td>\n",
       "      <td>No</td>\n",
       "      <td>No</td>\n",
       "      <td>No</td>\n",
       "      <td>No</td>\n",
       "      <td>No</td>\n",
       "      <td>No</td>\n",
       "      <td>No</td>\n",
       "      <td>No</td>\n",
       "      <td>Ringing</td>\n",
       "      <td>No</td>\n",
       "      <td>No</td>\n",
       "      <td>NaN</td>\n",
       "      <td>No</td>\n",
       "      <td>No</td>\n",
       "      <td>Email Opened</td>\n",
       "    </tr>\n",
       "    <tr>\n",
       "      <th>2</th>\n",
       "      <td>8cc8c611-a219-4f35-ad23-fdfd2656bd8a</td>\n",
       "      <td>660727</td>\n",
       "      <td>Landing Page Submission</td>\n",
       "      <td>Direct Traffic</td>\n",
       "      <td>No</td>\n",
       "      <td>No</td>\n",
       "      <td>1</td>\n",
       "      <td>2.00</td>\n",
       "      <td>1532</td>\n",
       "      <td>2.00</td>\n",
       "      <td>Email Opened</td>\n",
       "      <td>India</td>\n",
       "      <td>Business Administration</td>\n",
       "      <td>Student</td>\n",
       "      <td>Better Career Prospects</td>\n",
       "      <td>No</td>\n",
       "      <td>No</td>\n",
       "      <td>No</td>\n",
       "      <td>No</td>\n",
       "      <td>No</td>\n",
       "      <td>No</td>\n",
       "      <td>No</td>\n",
       "      <td>No</td>\n",
       "      <td>Will revert after reading the email</td>\n",
       "      <td>No</td>\n",
       "      <td>No</td>\n",
       "      <td>Mumbai</td>\n",
       "      <td>No</td>\n",
       "      <td>Yes</td>\n",
       "      <td>Email Opened</td>\n",
       "    </tr>\n",
       "    <tr>\n",
       "      <th>3</th>\n",
       "      <td>0cc2df48-7cf4-4e39-9de9-19797f9b38cc</td>\n",
       "      <td>660719</td>\n",
       "      <td>Landing Page Submission</td>\n",
       "      <td>Direct Traffic</td>\n",
       "      <td>No</td>\n",
       "      <td>No</td>\n",
       "      <td>0</td>\n",
       "      <td>1.00</td>\n",
       "      <td>305</td>\n",
       "      <td>1.00</td>\n",
       "      <td>Unreachable</td>\n",
       "      <td>India</td>\n",
       "      <td>Media and Advertising</td>\n",
       "      <td>Unemployed</td>\n",
       "      <td>Better Career Prospects</td>\n",
       "      <td>No</td>\n",
       "      <td>No</td>\n",
       "      <td>No</td>\n",
       "      <td>No</td>\n",
       "      <td>No</td>\n",
       "      <td>No</td>\n",
       "      <td>No</td>\n",
       "      <td>No</td>\n",
       "      <td>Ringing</td>\n",
       "      <td>No</td>\n",
       "      <td>No</td>\n",
       "      <td>Mumbai</td>\n",
       "      <td>No</td>\n",
       "      <td>No</td>\n",
       "      <td>Modified</td>\n",
       "    </tr>\n",
       "    <tr>\n",
       "      <th>4</th>\n",
       "      <td>3256f628-e534-4826-9d63-4a8b88782852</td>\n",
       "      <td>660681</td>\n",
       "      <td>Landing Page Submission</td>\n",
       "      <td>Google</td>\n",
       "      <td>No</td>\n",
       "      <td>No</td>\n",
       "      <td>1</td>\n",
       "      <td>2.00</td>\n",
       "      <td>1428</td>\n",
       "      <td>1.00</td>\n",
       "      <td>Converted to Lead</td>\n",
       "      <td>India</td>\n",
       "      <td>NaN</td>\n",
       "      <td>Unemployed</td>\n",
       "      <td>Better Career Prospects</td>\n",
       "      <td>No</td>\n",
       "      <td>No</td>\n",
       "      <td>No</td>\n",
       "      <td>No</td>\n",
       "      <td>No</td>\n",
       "      <td>No</td>\n",
       "      <td>No</td>\n",
       "      <td>No</td>\n",
       "      <td>Will revert after reading the email</td>\n",
       "      <td>No</td>\n",
       "      <td>No</td>\n",
       "      <td>Mumbai</td>\n",
       "      <td>No</td>\n",
       "      <td>No</td>\n",
       "      <td>Modified</td>\n",
       "    </tr>\n",
       "  </tbody>\n",
       "</table>\n",
       "</div>"
      ],
      "text/plain": [
       "                            Prospect ID  Lead Number              Lead Origin  \\\n",
       "0  7927b2df-8bba-4d29-b9a2-b6e0beafe620       660737                      API   \n",
       "1  2a272436-5132-4136-86fa-dcc88c88f482       660728                      API   \n",
       "2  8cc8c611-a219-4f35-ad23-fdfd2656bd8a       660727  Landing Page Submission   \n",
       "3  0cc2df48-7cf4-4e39-9de9-19797f9b38cc       660719  Landing Page Submission   \n",
       "4  3256f628-e534-4826-9d63-4a8b88782852       660681  Landing Page Submission   \n",
       "\n",
       "      Lead Source Do Not Email Do Not Call  Converted  TotalVisits  \\\n",
       "0      Olark Chat           No          No          0         0.00   \n",
       "1  Organic Search           No          No          0         5.00   \n",
       "2  Direct Traffic           No          No          1         2.00   \n",
       "3  Direct Traffic           No          No          0         1.00   \n",
       "4          Google           No          No          1         2.00   \n",
       "\n",
       "   Total Time Spent on Website  Page Views Per Visit            Last Activity  \\\n",
       "0                            0                  0.00  Page Visited on Website   \n",
       "1                          674                  2.50             Email Opened   \n",
       "2                         1532                  2.00             Email Opened   \n",
       "3                          305                  1.00              Unreachable   \n",
       "4                         1428                  1.00        Converted to Lead   \n",
       "\n",
       "  Country           Specialization What is your current occupation  \\\n",
       "0     NaN                      NaN                      Unemployed   \n",
       "1   India                      NaN                      Unemployed   \n",
       "2   India  Business Administration                         Student   \n",
       "3   India    Media and Advertising                      Unemployed   \n",
       "4   India                      NaN                      Unemployed   \n",
       "\n",
       "  What matters most to you in choosing a course Search Magazine  \\\n",
       "0                       Better Career Prospects     No       No   \n",
       "1                       Better Career Prospects     No       No   \n",
       "2                       Better Career Prospects     No       No   \n",
       "3                       Better Career Prospects     No       No   \n",
       "4                       Better Career Prospects     No       No   \n",
       "\n",
       "  Newspaper Article X Education Forums Newspaper Digital Advertisement  \\\n",
       "0                No                 No        No                    No   \n",
       "1                No                 No        No                    No   \n",
       "2                No                 No        No                    No   \n",
       "3                No                 No        No                    No   \n",
       "4                No                 No        No                    No   \n",
       "\n",
       "  Through Recommendations Receive More Updates About Our Courses  \\\n",
       "0                      No                                     No   \n",
       "1                      No                                     No   \n",
       "2                      No                                     No   \n",
       "3                      No                                     No   \n",
       "4                      No                                     No   \n",
       "\n",
       "                                  Tags Update me on Supply Chain Content  \\\n",
       "0          Interested in other courses                                No   \n",
       "1                              Ringing                                No   \n",
       "2  Will revert after reading the email                                No   \n",
       "3                              Ringing                                No   \n",
       "4  Will revert after reading the email                                No   \n",
       "\n",
       "  Get updates on DM Content    City I agree to pay the amount through cheque  \\\n",
       "0                        No     NaN                                       No   \n",
       "1                        No     NaN                                       No   \n",
       "2                        No  Mumbai                                       No   \n",
       "3                        No  Mumbai                                       No   \n",
       "4                        No  Mumbai                                       No   \n",
       "\n",
       "  A free copy of Mastering The Interview Last Notable Activity  \n",
       "0                                     No              Modified  \n",
       "1                                     No          Email Opened  \n",
       "2                                    Yes          Email Opened  \n",
       "3                                     No              Modified  \n",
       "4                                     No              Modified  "
      ]
     },
     "execution_count": 174,
     "metadata": {},
     "output_type": "execute_result"
    }
   ],
   "source": [
    "df.drop([\"Asymmetrique Activity Index\",\"Asymmetrique Profile Index\",\"Asymmetrique Activity Score\",\n",
    "            \"Asymmetrique Profile Score\", \"Lead Profile\",\"Lead Quality\",\"How did you hear about X Education\"], \n",
    "        axis = 1, inplace = True)\n",
    "\n",
    "df.head()"
   ]
  },
  {
   "cell_type": "code",
   "execution_count": 175,
   "id": "90a4bf9d",
   "metadata": {},
   "outputs": [
    {
     "data": {
      "text/plain": [
       "(9240, 30)"
      ]
     },
     "execution_count": 175,
     "metadata": {},
     "output_type": "execute_result"
    }
   ],
   "source": [
    "df.shape"
   ]
  },
  {
   "cell_type": "code",
   "execution_count": 176,
   "id": "353f6aff",
   "metadata": {
    "scrolled": true
   },
   "outputs": [
    {
     "data": {
      "text/plain": [
       "Prospect ID                                      9240\n",
       "Lead Number                                      9240\n",
       "Lead Origin                                         5\n",
       "Lead Source                                        21\n",
       "Do Not Email                                        2\n",
       "Do Not Call                                         2\n",
       "Converted                                           2\n",
       "TotalVisits                                        41\n",
       "Total Time Spent on Website                      1731\n",
       "Page Views Per Visit                              114\n",
       "Last Activity                                      17\n",
       "Country                                            38\n",
       "Specialization                                     18\n",
       "What is your current occupation                     6\n",
       "What matters most to you in choosing a course       3\n",
       "Search                                              2\n",
       "Magazine                                            1\n",
       "Newspaper Article                                   2\n",
       "X Education Forums                                  2\n",
       "Newspaper                                           2\n",
       "Digital Advertisement                               2\n",
       "Through Recommendations                             2\n",
       "Receive More Updates About Our Courses              1\n",
       "Tags                                               26\n",
       "Update me on Supply Chain Content                   1\n",
       "Get updates on DM Content                           1\n",
       "City                                                6\n",
       "I agree to pay the amount through cheque            1\n",
       "A free copy of Mastering The Interview              2\n",
       "Last Notable Activity                              16\n",
       "dtype: int64"
      ]
     },
     "execution_count": 176,
     "metadata": {},
     "output_type": "execute_result"
    }
   ],
   "source": [
    "df.nunique()"
   ]
  },
  {
   "cell_type": "markdown",
   "id": "e74a4351",
   "metadata": {},
   "source": [
    "#### By looking at unique values we can see that some columns have just single value as entry. This will provide no insight in data analysis. These columns can be dropped ."
   ]
  },
  {
   "cell_type": "code",
   "execution_count": 177,
   "id": "52e5ec20",
   "metadata": {},
   "outputs": [
    {
     "data": {
      "text/plain": [
       "(9240, 25)"
      ]
     },
     "execution_count": 177,
     "metadata": {},
     "output_type": "execute_result"
    }
   ],
   "source": [
    "df.drop(['Magazine', 'Receive More Updates About Our Courses' , 'Update me on Supply Chain Content',\n",
    "        'Get updates on DM Content' , 'I agree to pay the amount through cheque' ],axis=1,inplace=True)\n",
    "df.shape"
   ]
  },
  {
   "cell_type": "code",
   "execution_count": 178,
   "id": "9e5ec664",
   "metadata": {
    "scrolled": true
   },
   "outputs": [
    {
     "data": {
      "text/plain": [
       "Prospect ID                                      0.00\n",
       "Lead Number                                      0.00\n",
       "Lead Origin                                      0.00\n",
       "Lead Source                                      0.39\n",
       "Do Not Email                                     0.00\n",
       "Do Not Call                                      0.00\n",
       "Converted                                        0.00\n",
       "TotalVisits                                      1.48\n",
       "Total Time Spent on Website                      0.00\n",
       "Page Views Per Visit                             1.48\n",
       "Last Activity                                    1.11\n",
       "Country                                         26.63\n",
       "Specialization                                  36.58\n",
       "What is your current occupation                 29.11\n",
       "What matters most to you in choosing a course   29.32\n",
       "Search                                           0.00\n",
       "Newspaper Article                                0.00\n",
       "X Education Forums                               0.00\n",
       "Newspaper                                        0.00\n",
       "Digital Advertisement                            0.00\n",
       "Through Recommendations                          0.00\n",
       "Tags                                            36.29\n",
       "City                                            39.71\n",
       "A free copy of Mastering The Interview           0.00\n",
       "Last Notable Activity                            0.00\n",
       "dtype: float64"
      ]
     },
     "execution_count": 178,
     "metadata": {},
     "output_type": "execute_result"
    }
   ],
   "source": [
    "# Calculate percentage of null values for each column\n",
    "(df.isnull().sum() / df.shape[0]) * 100"
   ]
  },
  {
   "cell_type": "markdown",
   "id": "095167c7",
   "metadata": {},
   "source": [
    "Now we will analyse the data in each column where missing values is still significant and find suitable substitution for those values so that data integrity is not altered. "
   ]
  },
  {
   "cell_type": "code",
   "execution_count": 179,
   "id": "ade6f3e6",
   "metadata": {
    "scrolled": true
   },
   "outputs": [
    {
     "data": {
      "text/plain": [
       "India                  70.26\n",
       "NaN                    26.63\n",
       "United States           0.75\n",
       "United Arab Emirates    0.57\n",
       "Singapore               0.26\n",
       "Saudi Arabia            0.23\n",
       "United Kingdom          0.16\n",
       "Australia               0.14\n",
       "Qatar                   0.11\n",
       "Bahrain                 0.08\n",
       "Hong Kong               0.08\n",
       "Oman                    0.06\n",
       "France                  0.06\n",
       "unknown                 0.05\n",
       "Kuwait                  0.04\n",
       "South Africa            0.04\n",
       "Canada                  0.04\n",
       "Nigeria                 0.04\n",
       "Germany                 0.04\n",
       "Sweden                  0.03\n",
       "Philippines             0.02\n",
       "Uganda                  0.02\n",
       "Italy                   0.02\n",
       "Bangladesh              0.02\n",
       "Netherlands             0.02\n",
       "Asia/Pacific Region     0.02\n",
       "China                   0.02\n",
       "Belgium                 0.02\n",
       "Ghana                   0.02\n",
       "Kenya                   0.01\n",
       "Sri Lanka               0.01\n",
       "Tanzania                0.01\n",
       "Malaysia                0.01\n",
       "Liberia                 0.01\n",
       "Switzerland             0.01\n",
       "Denmark                 0.01\n",
       "Russia                  0.01\n",
       "Vietnam                 0.01\n",
       "Indonesia               0.01\n",
       "Name: Country, dtype: float64"
      ]
     },
     "execution_count": 179,
     "metadata": {},
     "output_type": "execute_result"
    }
   ],
   "source": [
    "# first in the list is Country column, lets its content percentage\n",
    "df[\"Country\"].value_counts(normalize = True, dropna = False)*100"
   ]
  },
  {
   "cell_type": "markdown",
   "id": "9c7b0b03",
   "metadata": {},
   "source": [
    "* Since India is the most common occurence among the non-missing values. This is highly skewed data and if we convert all the null values to India the data gets even more skewed as 97% of all leads come from India. So its better to drop this column"
   ]
  },
  {
   "cell_type": "code",
   "execution_count": 180,
   "id": "41ea2fc5",
   "metadata": {
    "scrolled": true
   },
   "outputs": [],
   "source": [
    "df.drop('Country', axis = 1, inplace = True)"
   ]
  },
  {
   "cell_type": "code",
   "execution_count": 181,
   "id": "028f67cc",
   "metadata": {},
   "outputs": [
    {
     "data": {
      "text/plain": [
       "NaN                                  3380\n",
       "Finance Management                    976\n",
       "Human Resource Management             848\n",
       "Marketing Management                  838\n",
       "Operations Management                 503\n",
       "Business Administration               403\n",
       "IT Projects Management                366\n",
       "Supply Chain Management               349\n",
       "Banking, Investment And Insurance     338\n",
       "Travel and Tourism                    203\n",
       "Media and Advertising                 203\n",
       "International Business                178\n",
       "Healthcare Management                 159\n",
       "Hospitality Management                114\n",
       "E-COMMERCE                            112\n",
       "Retail Management                     100\n",
       "Rural and Agribusiness                 73\n",
       "E-Business                             57\n",
       "Services Excellence                    40\n",
       "Name: Specialization, dtype: int64"
      ]
     },
     "execution_count": 181,
     "metadata": {},
     "output_type": "execute_result"
    }
   ],
   "source": [
    "df['Specialization'].value_counts(dropna=False)"
   ]
  },
  {
   "cell_type": "markdown",
   "id": "0d5ff460",
   "metadata": {},
   "source": [
    "* Here maximum leads have not mentioned their Specialization. Also data gives no indication that any specific specizlization has shown greater interest. SO its better to change null values to \"Not provided\""
   ]
  },
  {
   "cell_type": "code",
   "execution_count": 183,
   "id": "5e5160a5",
   "metadata": {
    "scrolled": true
   },
   "outputs": [
    {
     "data": {
      "text/plain": [
       "Not provided                         3380\n",
       "Finance Management                    976\n",
       "Human Resource Management             848\n",
       "Marketing Management                  838\n",
       "Operations Management                 503\n",
       "Business Administration               403\n",
       "IT Projects Management                366\n",
       "Supply Chain Management               349\n",
       "Banking, Investment And Insurance     338\n",
       "Travel and Tourism                    203\n",
       "Media and Advertising                 203\n",
       "International Business                178\n",
       "Healthcare Management                 159\n",
       "Hospitality Management                114\n",
       "E-COMMERCE                            112\n",
       "Retail Management                     100\n",
       "Rural and Agribusiness                 73\n",
       "E-Business                             57\n",
       "Services Excellence                    40\n",
       "Name: Specialization, dtype: int64"
      ]
     },
     "execution_count": 183,
     "metadata": {},
     "output_type": "execute_result"
    }
   ],
   "source": [
    "df['Specialization'] = df['Specialization'].replace(np.nan, \"Not provided\")\n",
    "df['Specialization'].value_counts(dropna=False)"
   ]
  },
  {
   "cell_type": "code",
   "execution_count": 184,
   "id": "a2360980",
   "metadata": {},
   "outputs": [
    {
     "data": {
      "text/plain": [
       "Unemployed              5600\n",
       "NaN                     2690\n",
       "Working Professional     706\n",
       "Student                  210\n",
       "Other                     16\n",
       "Housewife                 10\n",
       "Businessman                8\n",
       "Name: What is your current occupation, dtype: int64"
      ]
     },
     "execution_count": 184,
     "metadata": {},
     "output_type": "execute_result"
    }
   ],
   "source": [
    "df['What is your current occupation'].value_counts(dropna=False)"
   ]
  },
  {
   "cell_type": "markdown",
   "id": "07b2e118",
   "metadata": {},
   "source": [
    "* maximum leads are unemployed, which is obvious as the umemployed will have greater urge to learn new skills and upgrade to become employable, hence we can safely replace null values with unemployed. "
   ]
  },
  {
   "cell_type": "code",
   "execution_count": 188,
   "id": "60d395d5",
   "metadata": {},
   "outputs": [
    {
     "data": {
      "text/plain": [
       "Unemployed             89.72\n",
       "Working Professional    7.64\n",
       "Others                  2.64\n",
       "Name: What is your current occupation, dtype: float64"
      ]
     },
     "execution_count": 188,
     "metadata": {},
     "output_type": "execute_result"
    }
   ],
   "source": [
    "df['What is your current occupation'] = df['What is your current occupation'].replace(np.nan, 'Unemployed')\n",
    "df['What is your current occupation'].value_counts(normalize = True)*100"
   ]
  },
  {
   "cell_type": "markdown",
   "id": "2eaa8657",
   "metadata": {},
   "source": [
    "* From above we can see that 90% of the population is umemployed. So we can group this column into umemployed, Working Professional and Others for better analysis"
   ]
  },
  {
   "cell_type": "code",
   "execution_count": 189,
   "id": "ed92fb0f",
   "metadata": {},
   "outputs": [],
   "source": [
    "df['What is your current occupation']= df['What is your current occupation'].replace(['Student','Other','Housewife'\n",
    "                                                                                      ,'Businessman'],'Others')"
   ]
  },
  {
   "cell_type": "code",
   "execution_count": 190,
   "id": "6476d3d2",
   "metadata": {},
   "outputs": [
    {
     "data": {
      "text/plain": [
       "Better Career Prospects      6528\n",
       "NaN                          2709\n",
       "Flexibility & Convenience       2\n",
       "Other                           1\n",
       "Name: What matters most to you in choosing a course, dtype: int64"
      ]
     },
     "execution_count": 190,
     "metadata": {},
     "output_type": "execute_result"
    }
   ],
   "source": [
    "df['What matters most to you in choosing a course'].value_counts(dropna=False)"
   ]
  },
  {
   "cell_type": "markdown",
   "id": "51ffefc0",
   "metadata": {},
   "source": [
    "* As previously done, we have dropped columns that had unique values, here also almost 100% of the leads fall in Better career prospects or null values,no proper inference can be derived from this. Hence we can drop this column."
   ]
  },
  {
   "cell_type": "code",
   "execution_count": 191,
   "id": "540c733b",
   "metadata": {},
   "outputs": [],
   "source": [
    "df.drop('What matters most to you in choosing a course', axis = 1, inplace = True)"
   ]
  },
  {
   "cell_type": "code",
   "execution_count": 192,
   "id": "09a3be8e",
   "metadata": {
    "scrolled": true
   },
   "outputs": [
    {
     "data": {
      "text/plain": [
       "NaN                                                  3353\n",
       "Will revert after reading the email                  2072\n",
       "Ringing                                              1203\n",
       "Interested in other courses                           513\n",
       "Already a student                                     465\n",
       "Closed by Horizzon                                    358\n",
       "switched off                                          240\n",
       "Busy                                                  186\n",
       "Lost to EINS                                          175\n",
       "Not doing further education                           145\n",
       "Interested  in full time MBA                          117\n",
       "Graduation in progress                                111\n",
       "invalid number                                         83\n",
       "Diploma holder (Not Eligible)                          63\n",
       "wrong number given                                     47\n",
       "opp hangup                                             33\n",
       "number not provided                                    27\n",
       "in touch with EINS                                     12\n",
       "Lost to Others                                          7\n",
       "Still Thinking                                          6\n",
       "Want to take admission but has financial problems       6\n",
       "In confusion whether part time or DLP                   5\n",
       "Interested in Next batch                                5\n",
       "Lateral student                                         3\n",
       "Shall take in the next coming month                     2\n",
       "University not recognized                               2\n",
       "Recognition issue (DEC approval)                        1\n",
       "Name: Tags, dtype: int64"
      ]
     },
     "execution_count": 192,
     "metadata": {},
     "output_type": "execute_result"
    }
   ],
   "source": [
    "df['Tags'].value_counts(dropna=False)"
   ]
  },
  {
   "cell_type": "markdown",
   "id": "05665ab3",
   "metadata": {},
   "source": [
    "* Again here cant replace null value with any other value. Hence we will replace it with \"Not Provided\""
   ]
  },
  {
   "cell_type": "code",
   "execution_count": 193,
   "id": "d6e311bb",
   "metadata": {
    "scrolled": true
   },
   "outputs": [
    {
     "data": {
      "text/plain": [
       "Not provided                                         3353\n",
       "Will revert after reading the email                  2072\n",
       "Ringing                                              1203\n",
       "Interested in other courses                           513\n",
       "Already a student                                     465\n",
       "Closed by Horizzon                                    358\n",
       "switched off                                          240\n",
       "Busy                                                  186\n",
       "Lost to EINS                                          175\n",
       "Not doing further education                           145\n",
       "Interested  in full time MBA                          117\n",
       "Graduation in progress                                111\n",
       "invalid number                                         83\n",
       "Diploma holder (Not Eligible)                          63\n",
       "wrong number given                                     47\n",
       "opp hangup                                             33\n",
       "number not provided                                    27\n",
       "in touch with EINS                                     12\n",
       "Lost to Others                                          7\n",
       "Still Thinking                                          6\n",
       "Want to take admission but has financial problems       6\n",
       "In confusion whether part time or DLP                   5\n",
       "Interested in Next batch                                5\n",
       "Lateral student                                         3\n",
       "Shall take in the next coming month                     2\n",
       "University not recognized                               2\n",
       "Recognition issue (DEC approval)                        1\n",
       "Name: Tags, dtype: int64"
      ]
     },
     "execution_count": 193,
     "metadata": {},
     "output_type": "execute_result"
    }
   ],
   "source": [
    "df['Tags'] = df['Tags'].replace(np.nan, 'Not provided')\n",
    "df['Tags'].value_counts(dropna=False)"
   ]
  },
  {
   "cell_type": "code",
   "execution_count": 196,
   "id": "0ebdaf71",
   "metadata": {},
   "outputs": [
    {
     "data": {
      "text/plain": [
       "NaN                            3669\n",
       "Mumbai                         3222\n",
       "Thane & Outskirts               752\n",
       "Other Cities                    686\n",
       "Other Cities of Maharashtra     457\n",
       "Other Metro Cities              380\n",
       "Tier II Cities                   74\n",
       "Name: City, dtype: int64"
      ]
     },
     "execution_count": 196,
     "metadata": {},
     "output_type": "execute_result"
    }
   ],
   "source": [
    "#checking value counts of \"City\" column\n",
    "\n",
    "df['City'].value_counts(dropna=False)"
   ]
  },
  {
   "cell_type": "markdown",
   "id": "cf688dae",
   "metadata": {},
   "source": [
    "* Again we can see that the entire data is from one metro city - mumbai. we can safely replace missing values with mumbai as maximum leads are from mumbai"
   ]
  },
  {
   "cell_type": "code",
   "execution_count": 197,
   "id": "a1e296f7",
   "metadata": {},
   "outputs": [
    {
     "data": {
      "text/plain": [
       "Mumbai                         6891\n",
       "Thane & Outskirts               752\n",
       "Other Cities                    686\n",
       "Other Cities of Maharashtra     457\n",
       "Other Metro Cities              380\n",
       "Tier II Cities                   74\n",
       "Name: City, dtype: int64"
      ]
     },
     "execution_count": 197,
     "metadata": {},
     "output_type": "execute_result"
    }
   ],
   "source": [
    "df['City'] = df['City'].replace(np.nan, 'Mumbai')\n",
    "df['City'].value_counts(dropna=False)"
   ]
  },
  {
   "cell_type": "code",
   "execution_count": 198,
   "id": "e4bb7da3",
   "metadata": {},
   "outputs": [
    {
     "data": {
      "text/plain": [
       "Prospect ID                              0.00\n",
       "Lead Number                              0.00\n",
       "Lead Origin                              0.00\n",
       "Lead Source                              0.39\n",
       "Do Not Email                             0.00\n",
       "Do Not Call                              0.00\n",
       "Converted                                0.00\n",
       "TotalVisits                              1.48\n",
       "Total Time Spent on Website              0.00\n",
       "Page Views Per Visit                     1.48\n",
       "Last Activity                            1.11\n",
       "Specialization                           0.00\n",
       "What is your current occupation          0.00\n",
       "Search                                   0.00\n",
       "Newspaper Article                        0.00\n",
       "X Education Forums                       0.00\n",
       "Newspaper                                0.00\n",
       "Digital Advertisement                    0.00\n",
       "Through Recommendations                  0.00\n",
       "Tags                                     0.00\n",
       "City                                     0.00\n",
       "A free copy of Mastering The Interview   0.00\n",
       "Last Notable Activity                    0.00\n",
       "dtype: float64"
      ]
     },
     "execution_count": 198,
     "metadata": {},
     "output_type": "execute_result"
    }
   ],
   "source": [
    "# Calculate percentage of null values for each column\n",
    "(df.isnull().sum() / df.shape[0]) * 100"
   ]
  },
  {
   "cell_type": "code",
   "execution_count": 199,
   "id": "75f79114",
   "metadata": {
    "scrolled": true
   },
   "outputs": [
    {
     "data": {
      "text/plain": [
       "Google               2868\n",
       "Direct Traffic       2543\n",
       "Olark Chat           1755\n",
       "Organic Search       1154\n",
       "Reference             534\n",
       "Welingak Website      142\n",
       "Referral Sites        125\n",
       "Facebook               55\n",
       "NaN                    36\n",
       "bing                    6\n",
       "google                  5\n",
       "Click2call              4\n",
       "Press_Release           2\n",
       "Social Media            2\n",
       "Live Chat               2\n",
       "youtubechannel          1\n",
       "testone                 1\n",
       "Pay per Click Ads       1\n",
       "welearnblog_Home        1\n",
       "WeLearn                 1\n",
       "blog                    1\n",
       "NC_EDM                  1\n",
       "Name: Lead Source, dtype: int64"
      ]
     },
     "execution_count": 199,
     "metadata": {},
     "output_type": "execute_result"
    }
   ],
   "source": [
    "df['Lead Source'].value_counts(dropna= False)"
   ]
  },
  {
   "cell_type": "code",
   "execution_count": 200,
   "id": "9464c3d8",
   "metadata": {},
   "outputs": [],
   "source": [
    "#replace null value and combine it with low frequency values into one group as Others\n",
    "df['Lead Source'] = df['Lead Source'].replace(np.nan,'Others')\n",
    "df['Lead Source'] = df['Lead Source'].replace('google','Google')\n",
    "df['Lead Source'] = df['Lead Source'].replace('Facebook','Social Media')\n",
    "df['Lead Source'] = df['Lead Source'].replace(['bing','Click2call','Press_Release','Live Chat',\n",
    "                                                     'youtubechannel','welearnblog_Home',\n",
    "                                                     'WeLearn','blog','Pay per Click Ads',\n",
    "                                                    'testone','NC_EDM'] ,'Others') "
   ]
  },
  {
   "cell_type": "code",
   "execution_count": 201,
   "id": "bf894b22",
   "metadata": {},
   "outputs": [
    {
     "data": {
      "text/plain": [
       "Google              2873\n",
       "Direct Traffic      2543\n",
       "Olark Chat          1755\n",
       "Organic Search      1154\n",
       "Reference            534\n",
       "Welingak Website     142\n",
       "Referral Sites       125\n",
       "Social Media          57\n",
       "Others                57\n",
       "Name: Lead Source, dtype: int64"
      ]
     },
     "execution_count": 201,
     "metadata": {},
     "output_type": "execute_result"
    }
   ],
   "source": [
    "df['Lead Source'].value_counts(dropna= False)"
   ]
  },
  {
   "cell_type": "code",
   "execution_count": 202,
   "id": "c0aa9565",
   "metadata": {
    "scrolled": true
   },
   "outputs": [
    {
     "data": {
      "text/plain": [
       "0.00      2189\n",
       "2.00      1680\n",
       "3.00      1306\n",
       "4.00      1120\n",
       "5.00       783\n",
       "6.00       466\n",
       "1.00       395\n",
       "7.00       309\n",
       "8.00       224\n",
       "9.00       164\n",
       "NaN        137\n",
       "10.00      114\n",
       "11.00       86\n",
       "13.00       48\n",
       "12.00       45\n",
       "14.00       36\n",
       "16.00       21\n",
       "15.00       18\n",
       "17.00       16\n",
       "18.00       15\n",
       "20.00       12\n",
       "19.00        9\n",
       "21.00        6\n",
       "23.00        6\n",
       "24.00        5\n",
       "25.00        5\n",
       "27.00        5\n",
       "22.00        3\n",
       "29.00        2\n",
       "28.00        2\n",
       "26.00        2\n",
       "141.00       1\n",
       "55.00        1\n",
       "30.00        1\n",
       "43.00        1\n",
       "74.00        1\n",
       "41.00        1\n",
       "54.00        1\n",
       "115.00       1\n",
       "251.00       1\n",
       "32.00        1\n",
       "42.00        1\n",
       "Name: TotalVisits, dtype: int64"
      ]
     },
     "execution_count": 202,
     "metadata": {},
     "output_type": "execute_result"
    }
   ],
   "source": [
    "df['TotalVisits'].value_counts(dropna= False)"
   ]
  },
  {
   "cell_type": "code",
   "execution_count": 203,
   "id": "bffffc47",
   "metadata": {},
   "outputs": [],
   "source": [
    "# we can group all visits above 10 as 10 and above including null values\n",
    "df['TotalVisits'] = df['TotalVisits'].replace(np.nan,'10above')\n",
    "df['TotalVisits'] = df['TotalVisits'].replace([10.0,11.0,13.0,12.0,14.00,16.00,15.00,17.00,18.00,19.00,20.00,\n",
    "                                               21.00,22.00,23.00,24.00,25.00,26.00,27.00,29.00,28.00,26.00,141.00,\n",
    "                                               55.00,30.00,43.00,74.00,41.00,54.00,115.00,251.00,32.00,42.00],'10above')"
   ]
  },
  {
   "cell_type": "code",
   "execution_count": 204,
   "id": "4ce85f33",
   "metadata": {
    "scrolled": true
   },
   "outputs": [
    {
     "data": {
      "text/plain": [
       "0.0       23.69\n",
       "2.0       18.18\n",
       "3.0       14.13\n",
       "4.0       12.12\n",
       "5.0        8.47\n",
       "10above    6.54\n",
       "6.0        5.04\n",
       "1.0        4.27\n",
       "7.0        3.34\n",
       "8.0        2.42\n",
       "9.0        1.77\n",
       "Name: TotalVisits, dtype: float64"
      ]
     },
     "execution_count": 204,
     "metadata": {},
     "output_type": "execute_result"
    }
   ],
   "source": [
    "df['TotalVisits'].value_counts(normalize= True,dropna= False)*100"
   ]
  },
  {
   "cell_type": "code",
   "execution_count": 205,
   "id": "8f20034a",
   "metadata": {},
   "outputs": [
    {
     "data": {
      "text/plain": [
       "0.00     2189\n",
       "2.00     1795\n",
       "3.00     1196\n",
       "4.00      896\n",
       "1.00      651\n",
       "5.00      517\n",
       "1.50      306\n",
       "6.00      244\n",
       "2.50      241\n",
       "NaN       137\n",
       "7.00      133\n",
       "3.50       94\n",
       "8.00       86\n",
       "1.33       66\n",
       "1.67       60\n",
       "2.33       59\n",
       "2.67       54\n",
       "9.00       45\n",
       "4.50       43\n",
       "1.75       28\n",
       "3.33       27\n",
       "10.00      25\n",
       "1.25       23\n",
       "5.50       21\n",
       "2.25       19\n",
       "11.00      18\n",
       "3.67       16\n",
       "6.50       13\n",
       "1.80       13\n",
       "2.75       12\n",
       "1.40       11\n",
       "4.33        9\n",
       "14.00       9\n",
       "2.80        9\n",
       "2.20        9\n",
       "1.60        8\n",
       "2.17        8\n",
       "3.25        8\n",
       "2.40        6\n",
       "13.00       6\n",
       "1.20        5\n",
       "12.00       5\n",
       "1.43        4\n",
       "3.40        4\n",
       "2.60        4\n",
       "1.71        4\n",
       "1.83        4\n",
       "15.00       4\n",
       "1.38        3\n",
       "4.25        3\n",
       "4.75        3\n",
       "1.57        3\n",
       "16.00       3\n",
       "5.67        3\n",
       "1.78        3\n",
       "1.56        2\n",
       "5.40        2\n",
       "2.71        2\n",
       "2.83        2\n",
       "1.23        2\n",
       "1.22        2\n",
       "3.60        2\n",
       "3.75        2\n",
       "7.50        2\n",
       "1.14        2\n",
       "2.22        2\n",
       "5.25        2\n",
       "5.33        2\n",
       "2.09        2\n",
       "3.20        2\n",
       "4.17        1\n",
       "2.57        1\n",
       "24.00       1\n",
       "6.67        1\n",
       "1.54        1\n",
       "2.13        1\n",
       "2.14        1\n",
       "2.45        1\n",
       "3.29        1\n",
       "3.38        1\n",
       "1.63        1\n",
       "8.33        1\n",
       "1.17        1\n",
       "14.50       1\n",
       "3.80        1\n",
       "1.19        1\n",
       "3.82        1\n",
       "1.27        1\n",
       "1.93        1\n",
       "11.50       1\n",
       "1.48        1\n",
       "4.40        1\n",
       "3.17        1\n",
       "1.45        1\n",
       "6.71        1\n",
       "55.00       1\n",
       "1.31        1\n",
       "8.50        1\n",
       "2.90        1\n",
       "3.83        1\n",
       "3.91        1\n",
       "2.86        1\n",
       "2.63        1\n",
       "2.38        1\n",
       "3.57        1\n",
       "1.86        1\n",
       "2.29        1\n",
       "1.21        1\n",
       "12.33       1\n",
       "3.43        1\n",
       "2.56        1\n",
       "6.33        1\n",
       "1.64        1\n",
       "8.21        1\n",
       "2.08        1\n",
       "Name: Page Views Per Visit, dtype: int64"
      ]
     },
     "execution_count": 205,
     "metadata": {},
     "output_type": "execute_result"
    }
   ],
   "source": [
    "df['Page Views Per Visit'].value_counts(dropna=False)                                              "
   ]
  },
  {
   "cell_type": "code",
   "execution_count": 206,
   "id": "f15e5f2a",
   "metadata": {
    "scrolled": true
   },
   "outputs": [
    {
     "data": {
      "text/plain": [
       "Email Opened                    3437\n",
       "SMS Sent                        2745\n",
       "Olark Chat Conversation          973\n",
       "Page Visited on Website          640\n",
       "Converted to Lead                428\n",
       "Email Bounced                    326\n",
       "Email Link Clicked               267\n",
       "Form Submitted on Website        116\n",
       "NaN                              103\n",
       "Unreachable                       93\n",
       "Unsubscribed                      61\n",
       "Had a Phone Conversation          30\n",
       "Approached upfront                 9\n",
       "View in browser link Clicked       6\n",
       "Email Received                     2\n",
       "Email Marked Spam                  2\n",
       "Visited Booth in Tradeshow         1\n",
       "Resubscribed to emails             1\n",
       "Name: Last Activity, dtype: int64"
      ]
     },
     "execution_count": 206,
     "metadata": {},
     "output_type": "execute_result"
    }
   ],
   "source": [
    "df['Last Activity'].value_counts(dropna=False)"
   ]
  },
  {
   "cell_type": "markdown",
   "id": "6d08f6aa",
   "metadata": {},
   "source": [
    "* From above 2 columns-\"Last Activity\",\"Page Views Per Visit\" we can see that null values are very small and suitable replacement for these null values is not feasible. Also if we drop these null values our data will not be affected as the perceantage is very small."
   ]
  },
  {
   "cell_type": "code",
   "execution_count": 207,
   "id": "ac9cd088",
   "metadata": {},
   "outputs": [],
   "source": [
    "df = df.dropna()"
   ]
  },
  {
   "cell_type": "code",
   "execution_count": 208,
   "id": "92a9dca0",
   "metadata": {},
   "outputs": [
    {
     "data": {
      "text/plain": [
       "Prospect ID                              0.00\n",
       "Lead Number                              0.00\n",
       "Lead Origin                              0.00\n",
       "Lead Source                              0.00\n",
       "Do Not Email                             0.00\n",
       "Do Not Call                              0.00\n",
       "Converted                                0.00\n",
       "TotalVisits                              0.00\n",
       "Total Time Spent on Website              0.00\n",
       "Page Views Per Visit                     0.00\n",
       "Last Activity                            0.00\n",
       "Specialization                           0.00\n",
       "What is your current occupation          0.00\n",
       "Search                                   0.00\n",
       "Newspaper Article                        0.00\n",
       "X Education Forums                       0.00\n",
       "Newspaper                                0.00\n",
       "Digital Advertisement                    0.00\n",
       "Through Recommendations                  0.00\n",
       "Tags                                     0.00\n",
       "City                                     0.00\n",
       "A free copy of Mastering The Interview   0.00\n",
       "Last Notable Activity                    0.00\n",
       "dtype: float64"
      ]
     },
     "execution_count": 208,
     "metadata": {},
     "output_type": "execute_result"
    }
   ],
   "source": [
    "# Calculate percentage of null values for each column\n",
    "(df.isnull().sum() / df.shape[0]) * 100"
   ]
  },
  {
   "cell_type": "code",
   "execution_count": 209,
   "id": "e76fb62c",
   "metadata": {},
   "outputs": [
    {
     "data": {
      "text/plain": [
       "(9103, 23)"
      ]
     },
     "execution_count": 209,
     "metadata": {},
     "output_type": "execute_result"
    }
   ],
   "source": [
    "df.shape"
   ]
  },
  {
   "cell_type": "code",
   "execution_count": null,
   "id": "ec7b8822",
   "metadata": {},
   "outputs": [],
   "source": []
  }
 ],
 "metadata": {
  "kernelspec": {
   "display_name": "Python 3 (ipykernel)",
   "language": "python",
   "name": "python3"
  },
  "language_info": {
   "codemirror_mode": {
    "name": "ipython",
    "version": 3
   },
   "file_extension": ".py",
   "mimetype": "text/x-python",
   "name": "python",
   "nbconvert_exporter": "python",
   "pygments_lexer": "ipython3",
   "version": "3.10.9"
  }
 },
 "nbformat": 4,
 "nbformat_minor": 5
}
